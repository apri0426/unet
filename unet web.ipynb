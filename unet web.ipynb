{
 "cells": [
  {
   "cell_type": "code",
   "execution_count": 676,
   "metadata": {},
   "outputs": [],
   "source": [
    "import os\n",
    "import torch\n",
    "import torchvision\n",
    "import numpy\n",
    "import matplotlib.pyplot as plt\n",
    "from torchvision import transforms, utils\n",
    "from fastbook import *\n",
    "from fastai.vision.widgets import *\n",
    "from network import U_Net\n",
    "from IPython.display import clear_output"
   ]
  },
  {
   "cell_type": "markdown",
   "metadata": {},
   "source": [
    "这是一个基于UNet，用于皮肤病影像图像分割的web app。上传图片会自动输出并保存结果。"
   ]
  },
  {
   "cell_type": "code",
   "execution_count": 677,
   "metadata": {},
   "outputs": [],
   "source": [
    "path = Path()\n",
    "btn_upload = widgets.FileUpload()\n",
    "out_pl = widgets.Output()"
   ]
  },
  {
   "cell_type": "code",
   "execution_count": 678,
   "metadata": {},
   "outputs": [],
   "source": [
    "unet = U_Net(img_ch=3,output_ch=1)\n",
    "unet.train(False)\n",
    "unet.eval()\n",
    "\n",
    "state_dict = torch.load('.\\\\U_Net-4-16.pth')  \n",
    "# create new OrderedDict that does not contain `module.`\n",
    "from collections import OrderedDict\n",
    "new_state_dict = OrderedDict()\n",
    "for k, v in state_dict.items():\n",
    "    name = k[7:] # remove `module.`，表面从第7个key值字符取到最后一个字符，正好去掉了module.\n",
    "    new_state_dict[name] = v #新字典的key值对应的value为一一对应的值。 \n",
    "# load params\n",
    "unet.load_state_dict(new_state_dict)\n",
    "clear_output()"
   ]
  },
  {
   "cell_type": "code",
   "execution_count": 679,
   "metadata": {},
   "outputs": [],
   "source": [
    "Transform = []\n",
    "Transform.append(transforms.Resize((224,224)))\n",
    "Transform.append(transforms.ToTensor())\n",
    "Transform = transforms.Compose(Transform)"
   ]
  },
  {
   "cell_type": "code",
   "execution_count": 680,
   "metadata": {},
   "outputs": [],
   "source": [
    "def on_data_change(change):\n",
    "    img = PILImage.create(btn_upload.data[-1])\n",
    "    out_pl.clear_output()\n",
    "    img_new = img\n",
    "    img_new = Transform(img_new)\n",
    "    img_new = img_new.unsqueeze(0)\n",
    "    out = unet(img_new)\n",
    "    torchvision.utils.save_image(out, 'test.png')\n",
    "    out = out.detach().numpy()\n",
    "    out = out.squeeze()\n",
    "    plt.imshow(out,cmap = plt.cm.gray)\n",
    "    plt.axis('off')\n",
    "    with out_pl:  display(img.resize((200,200))) \n",
    "    with out_pl:  plt.show()"
   ]
  },
  {
   "cell_type": "code",
   "execution_count": 681,
   "metadata": {},
   "outputs": [],
   "source": [
    "# def on_data_change(change):\n",
    "#     img = PILImage.create(btn_upload.data[-1])\n",
    "#     out_pl.clear_output()\n",
    "#     with out_pl: display(img)\n",
    "#     img = Transform(img)\n",
    "#     img = img.unsqueeze(0)\n",
    "#     out = unet(img)\n",
    "#     torchvision.utils.save_image(out, 'test.png')\n",
    "#     out = out.squeeze(0)\n",
    "#     out = transforms.ToPILImage()(out)\n",
    "#     with out_pl: display(out)\n",
    "        "
   ]
  },
  {
   "cell_type": "code",
   "execution_count": 682,
   "metadata": {},
   "outputs": [],
   "source": [
    "btn_upload.observe(on_data_change, names=['data'])"
   ]
  },
  {
   "cell_type": "code",
   "execution_count": 683,
   "metadata": {},
   "outputs": [
    {
     "data": {
      "application/vnd.jupyter.widget-view+json": {
       "model_id": "07f739bc3b8f4187ae1bf1d5ad7adcb0",
       "version_major": 2,
       "version_minor": 0
      },
      "text/plain": [
       "VBox(children=(Label(value='请上传图片'), FileUpload(value={}, description='Upload'), Output()))"
      ]
     },
     "metadata": {},
     "output_type": "display_data"
    }
   ],
   "source": [
    "display(VBox([widgets.Label('请上传图片'), btn_upload, out_pl]))"
   ]
  },
  {
   "cell_type": "code",
   "execution_count": null,
   "metadata": {},
   "outputs": [],
   "source": []
  }
 ],
 "metadata": {
  "kernelspec": {
   "display_name": "Python 3",
   "language": "python",
   "name": "python3"
  },
  "language_info": {
   "codemirror_mode": {
    "name": "ipython",
    "version": 3
   },
   "file_extension": ".py",
   "mimetype": "text/x-python",
   "name": "python",
   "nbconvert_exporter": "python",
   "pygments_lexer": "ipython3",
   "version": "3.6.12"
  }
 },
 "nbformat": 4,
 "nbformat_minor": 4
}
